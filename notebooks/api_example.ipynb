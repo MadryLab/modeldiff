{
 "cells": [
  {
   "cell_type": "code",
   "execution_count": 3,
   "metadata": {},
   "outputs": [],
   "source": [
    "import torch\n",
    "import torchvision\n",
    "from modeldiff import ModelDiff"
   ]
  },
  {
   "cell_type": "markdown",
   "metadata": {},
   "source": [
    "### Helper functions"
   ]
  },
  {
   "cell_type": "code",
   "execution_count": 5,
   "metadata": {},
   "outputs": [],
   "source": [
    "def get_dataloader(batch_size=256, num_workers=8, split='train', shuffle=False, augment=True):\n",
    "    if augment:\n",
    "        transforms = torchvision.transforms.Compose(\n",
    "                        [torchvision.transforms.RandomHorizontalFlip(),\n",
    "                         torchvision.transforms.RandomAffine(0),\n",
    "                         torchvision.transforms.ToTensor(),\n",
    "                         torchvision.transforms.Normalize((0.4914, 0.4822, 0.4465),\n",
    "                                                          (0.2023, 0.1994, 0.201))])\n",
    "    else:\n",
    "        transforms = torchvision.transforms.Compose([\n",
    "                         torchvision.transforms.ToTensor(),\n",
    "                         torchvision.transforms.Normalize((0.4914, 0.4822, 0.4465),\n",
    "                                                          (0.2023, 0.1994, 0.201))])\n",
    "\n",
    "    is_train = (split == 'train')\n",
    "    dataset = torchvision.datasets.CIFAR10(root='/tmp/cifar/',\n",
    "                                           download=True,\n",
    "                                           train=is_train,\n",
    "                                           transform=transforms)\n",
    "\n",
    "    loader = torch.utils.data.DataLoader(dataset=dataset,\n",
    "                                         shuffle=shuffle,\n",
    "                                         batch_size=batch_size,\n",
    "                                         num_workers=num_workers)\n",
    "\n",
    "    return loader"
   ]
  },
  {
   "cell_type": "markdown",
   "metadata": {},
   "source": [
    "### Initialize the models we want to compare.\n",
    "For simplicity, we will use the same architecture for both models (though this is not necessary)."
   ]
  },
  {
   "cell_type": "code",
   "execution_count": 9,
   "metadata": {},
   "outputs": [],
   "source": [
    "modelA = torchvision.models.resnet18()\n",
    "modelB = torchvision.models.resnet18()"
   ]
  },
  {
   "cell_type": "markdown",
   "metadata": {},
   "source": [
    "### Initialize the training set\n",
    "Has to be the same for both models."
   ]
  },
  {
   "cell_type": "code",
   "execution_count": 6,
   "metadata": {},
   "outputs": [
    {
     "name": "stdout",
     "output_type": "stream",
     "text": [
      "Downloading https://www.cs.toronto.edu/~kriz/cifar-10-python.tar.gz to /tmp/cifar/cifar-10-python.tar.gz\n"
     ]
    },
    {
     "name": "stderr",
     "output_type": "stream",
     "text": [
      "100%|██████████| 170498071/170498071 [00:02<00:00, 65413585.20it/s]\n"
     ]
    },
    {
     "name": "stdout",
     "output_type": "stream",
     "text": [
      "Extracting /tmp/cifar/cifar-10-python.tar.gz to /tmp/cifar/\n"
     ]
    }
   ],
   "source": [
    "train_loader = get_dataloader(split='train')"
   ]
  },
  {
   "cell_type": "markdown",
   "metadata": {},
   "source": [
    "### Load checkpoints\n",
    "Load multiple model checkpoints in order to compute TRAK attribution scores. For more details, check out TRAK's [repo](https://github.com/MadryLab/trak) (and TRAK's [quickstart](https://trak.readthedocs.io/en/latest/quickstart.html)).\n",
    "\n",
    "The expected format is a list of `state_dict`s"
   ]
  },
  {
   "cell_type": "code",
   "execution_count": 7,
   "metadata": {},
   "outputs": [],
   "source": [
    "ckptsA = [...] # @ Harshay TODO: let's have a `download_cifar_ckpts.sh`\n",
    "ckptsB = [...]"
   ]
  },
  {
   "cell_type": "markdown",
   "metadata": {},
   "source": [
    "### Initialize the `ModelDiff` instance"
   ]
  },
  {
   "cell_type": "code",
   "execution_count": 11,
   "metadata": {},
   "outputs": [
    {
     "name": "stderr",
     "output_type": "stream",
     "text": [
      "WARNING:TRAK:TRAK is still in an early 0.x.x version.\n",
      "                             Report any issues at https://github.com/MadryLab/trak/issues\n"
     ]
    },
    {
     "name": "stderr",
     "output_type": "stream",
     "text": [
      "INFO:STORE:No existing model IDs in /mnt/xfs/home/krisgrg/projects/modeldiff/modeldiff_scores/modelA.\n",
      "INFO:STORE:No existing TRAK scores in /mnt/xfs/home/krisgrg/projects/modeldiff/modeldiff_scores/modelA.\n",
      "WARNING:TRAK:TRAK is still in an early 0.x.x version.\n",
      "                             Report any issues at https://github.com/MadryLab/trak/issues\n",
      "INFO:STORE:No existing model IDs in /mnt/xfs/home/krisgrg/projects/modeldiff/modeldiff_scores/modelB.\n",
      "INFO:STORE:No existing TRAK scores in /mnt/xfs/home/krisgrg/projects/modeldiff/modeldiff_scores/modelB.\n"
     ]
    }
   ],
   "source": [
    "md = ModelDiff(modelA, modelB, ckptsA, ckptsB, train_loader=train_loader)"
   ]
  },
  {
   "cell_type": "markdown",
   "metadata": {},
   "source": [
    "### Take any `diff` of choice!"
   ]
  },
  {
   "cell_type": "markdown",
   "metadata": {},
   "source": [
    "Now you can compute `A-B` and `B-A` with just a single line of code!"
   ]
  },
  {
   "cell_type": "code",
   "execution_count": null,
   "metadata": {},
   "outputs": [],
   "source": [
    "val_loader1 = get_dataloader(split='val')\n",
    "diff1 = md.get_A_minus_B(val_loader=val_loader1, num_pca_comps=2)"
   ]
  },
  {
   "cell_type": "markdown",
   "metadata": {},
   "source": [
    "Once we've initialized the `md` instance, we can use it to compute `diff`s wrt many different target datasets (e.g., like with `val_loader1` above)."
   ]
  },
  {
   "cell_type": "code",
   "execution_count": null,
   "metadata": {},
   "outputs": [],
   "source": [
    "val_loader2 = get_dataloader(split='val')\n",
    "diff2 = md.get_B_minus_A(val_loader=val_loader2, num_pca_comps=4)"
   ]
  },
  {
   "cell_type": "markdown",
   "metadata": {},
   "source": [
    "### Bring Your Own Scores"
   ]
  },
  {
   "cell_type": "markdown",
   "metadata": {},
   "source": [
    "If you already have some attribution scores computed, you can still use the same API!"
   ]
  },
  {
   "cell_type": "code",
   "execution_count": 13,
   "metadata": {},
   "outputs": [],
   "source": [
    "md_from_scores = ModelDiff()"
   ]
  },
  {
   "cell_type": "code",
   "execution_count": 16,
   "metadata": {},
   "outputs": [],
   "source": [
    "# run scripts/download_living17_checkpoints.sh first\n",
    "from pathlib import Path\n",
    "\n",
    "scores_dir = Path('./datamodels/')\n",
    "scoresA = torch.load(scores_dir.joinpath('living17_data-aug.pt'))['weight']\n",
    "scoresB = torch.load(scores_dir.joinpath('living17_without-data-aug.pt'))['weight']"
   ]
  },
  {
   "cell_type": "code",
   "execution_count": 17,
   "metadata": {},
   "outputs": [],
   "source": [
    "diff = md_from_scores.get_A_minus_B_from_scores(scoresA, scoresB, num_pca_comps=2)"
   ]
  },
  {
   "cell_type": "code",
   "execution_count": 18,
   "metadata": {},
   "outputs": [
    {
     "data": {
      "text/plain": [
       "{'directions': array([[-0.00066547,  0.00221916,  0.00012629, ...,  0.00020184,\n",
       "         -0.00036254, -0.00049859],\n",
       "        [-0.00524965, -0.00065124, -0.00038203, ...,  0.00063359,\n",
       "         -0.0018108 , -0.00165741]], dtype=float32),\n",
       " 'projections': array([[ 5.1245297e-04, -2.4516261e-04],\n",
       "        [-1.0042154e-04,  5.1465724e-04],\n",
       "        [-3.7063823e-05,  8.0200400e-05],\n",
       "        ...,\n",
       "        [-1.7703998e-05,  2.1589889e-04],\n",
       "        [-8.5801890e-05, -1.4266069e-04],\n",
       "        [-5.9207014e-05,  5.5971013e-05]], dtype=float32),\n",
       " 'variances': {'A': array([0.00033447, 0.00109441], dtype=float32),\n",
       "  'B': array([0.00012626, 0.00037166], dtype=float32)}}"
      ]
     },
     "execution_count": 18,
     "metadata": {},
     "output_type": "execute_result"
    }
   ],
   "source": [
    "diff"
   ]
  },
  {
   "cell_type": "markdown",
   "metadata": {},
   "source": [
    "That's it!"
   ]
  }
 ],
 "metadata": {
  "kernelspec": {
   "display_name": "Python 3 (ipykernel)",
   "language": "python",
   "name": "python3"
  },
  "language_info": {
   "codemirror_mode": {
    "name": "ipython",
    "version": 3
   },
   "file_extension": ".py",
   "mimetype": "text/x-python",
   "name": "python",
   "nbconvert_exporter": "python",
   "pygments_lexer": "ipython3",
   "version": "3.9.16"
  },
  "orig_nbformat": 4
 },
 "nbformat": 4,
 "nbformat_minor": 2
}
